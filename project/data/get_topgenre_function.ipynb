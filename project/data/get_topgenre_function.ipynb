{
 "cells": [
  {
   "cell_type": "code",
   "execution_count": 1,
   "metadata": {},
   "outputs": [],
   "source": [
    "import itertools\n",
    "import itertools\n",
    "from collections import Counter\n",
    "import random"
   ]
  },
  {
   "cell_type": "code",
   "execution_count": null,
   "metadata": {},
   "outputs": [],
   "source": [
    "# list defined by group members to include more genres found by working with the data\n",
    "considered_genres_ = ['rap', 'trap', 'pop', 'hip', 'hip-hop', 'r&b', 'rock', 'dance', 'edm', 'new', 'alt', 'electronic', 'country', 'latino', 'indie', 'alternative', 'metal', 'punk', 'jazz', 'blues', 'funk', 'soul', 'orchestra' , 'reggae', 'folk', 'disco', 'classical', 'gospel', 'world', 'christian', 'singer-songwriter', 'acoustic', 'instrumental', 'movie' ,'vocal', 'spoken', 'adult', 'comedy', 'soundtrack', 'musical', 'opera', 'afrofuturism', 'lounge', 'clubbing', 'ost', 'mellow' , 'cappella', 'stomp' , 'alt-z' , 'torch', 'sped', 'bass', 'easy', 'show', 'lo-fi', 'mexicana', 'broriginal-soundtrackep']\n",
    "# all_genres are the genres found by the API\n",
    "considered_genres = list(set(all_genres + considered_genres_))\n",
    "# Set seed for reproducibility\n",
    "random.seed(12)\n",
    "\n",
    "def get_top_genre(dict_genres):\n",
    "    for i, ((artistname, artistid), dict_with_all_genres) in enumerate(dict_genres.items()):\n",
    "        if dict_with_all_genres['all_genres'] != []: # If there are genres found\n",
    "            # Split the genres into single words\n",
    "            genres_single_words = list(itertools.chain(*[genre.split(' ') for genre in dict_with_all_genres['all_genres']]) )\n",
    "            # Get frequency of each genre\n",
    "            list_common = Counter(genres_single_words).most_common()\n",
    "            highest_freq = Counter(genres_single_words).most_common(1)[0][1]\n",
    "            # Get the genres with the highest frequency (shared first place)\n",
    "            possible_top_genre = [genre for genre, freq in list_common if freq == highest_freq]\n",
    "            # Remove genres that are not in the considered genres\n",
    "            possible_top_genre = [genre for genre in possible_top_genre if genre in considered_genres]\n",
    "\n",
    "            # Replace some genres with the same meaning\n",
    "            possible_top_genre = list(map(lambda x: x.replace('hip', 'hip-hop'), possible_top_genre))\n",
    "            possible_top_genre = list(map(lambda x: x.replace('new', 'new-age'), possible_top_genre))\n",
    "            possible_top_genre = list(map(lambda x: x.replace('alt', 'alt-zentative'), possible_top_genre))\n",
    "            possible_top_genre = list(map(lambda x: x.replace('alt-zentativeernative', 'alt-zentative'), possible_top_genre))\n",
    "            possible_top_genre = list(map(lambda x: x.replace('ost', 'original-soundtrack'), possible_top_genre))\n",
    "            possible_top_genre = list(map(lambda x: x.replace('show', 'original-soundtrack'), possible_top_genre))\n",
    "            possible_top_genre = list(map(lambda x: x.replace('easy', 'easy-listening'), possible_top_genre))\n",
    "            possible_top_genre = list(map(lambda x: x.replace('sped', 'sped-up'), possible_top_genre))\n",
    "            possible_top_genre = list(map(lambda x: x.replace('cappella', 'a-cappella'), possible_top_genre))\n",
    "            possible_top_genre = list(map(lambda x: x.replace('scandipop', 'pop'), possible_top_genre))\n",
    "\n",
    "            # We have to choose now. Take a random genre from the remaining genres\n",
    "            if possible_top_genre:\n",
    "                random_top_genre = random.choice(possible_top_genre)\n",
    "                dict_genres[(artistname, artistid)]['top genre'] = random_top_genre\n",
    "            \n",
    "            # Check if the artist has a genre (not using split) that is in the considered genres and use that\n",
    "            else:\n",
    "                possible_top_genre = [genre for genre in genres_single_words if genre in considered_genres]\n",
    "                dict_genres[(artistname, artistid)]['top genre'] = random.choice(possible_top_genre)\n",
    "\n",
    "        else: # Not genres found\n",
    "            dict_genres[(artistname, artistid)]['top genre'] = 'no_genres' # does not do anything\n",
    "    return dict_genres\n",
    "\n",
    "dict_genres_updated = get_top_genre(dict_genres)\n",
    "\n",
    "list_of_artist_with_no_genre = [k for k,v in dict_genres_updated.items() if v['all_genres'] == ['no_genres']]\n",
    "# Remove items from dict_genres where value of all_genres is 'no_genre'\n",
    "dict_genres_updated = {k: v for k,v in dict_genres_updated.items() if v['all_genres'] != ['no_genres']}\n",
    "# Remove items from dict_feature where with nodes with no genre\n",
    "dict_features_updated = {}\n",
    "for k,v in dict_features.items():\n",
    "    if k not in list_of_artist_with_no_genre:\n",
    "        # remove v elements which are in list_of_artist_with_no_genre\n",
    "        dict_features_updated[k] = [artist for artist in v if artist not in list_of_artist_with_no_genre]"
   ]
  }
 ],
 "metadata": {
  "kernelspec": {
   "display_name": "base",
   "language": "python",
   "name": "python3"
  },
  "language_info": {
   "codemirror_mode": {
    "name": "ipython",
    "version": 3
   },
   "file_extension": ".py",
   "mimetype": "text/x-python",
   "name": "python",
   "nbconvert_exporter": "python",
   "pygments_lexer": "ipython3",
   "version": "3.9.7 (default, Sep 16 2021, 08:50:36) \n[Clang 10.0.0 ]"
  },
  "orig_nbformat": 4,
  "vscode": {
   "interpreter": {
    "hash": "89bab272b3e4d95e256b09f63e3f21815ac092f96e344784d164586467b9af67"
   }
  }
 },
 "nbformat": 4,
 "nbformat_minor": 2
}
