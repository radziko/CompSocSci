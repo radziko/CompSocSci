{
 "cells": [
  {
   "cell_type": "code",
   "execution_count": 16,
   "metadata": {},
   "outputs": [],
   "source": [
    "import math\n",
    "import json\n",
    "import requests\n",
    "import itertools\n",
    "import numpy as np\n",
    "import pandas as pd\n",
    "import time\n",
    "from datetime import datetime, timedelta\n",
    "from dotenv import load_dotenv\n",
    "import os\n",
    "import json\n",
    "import base64"
   ]
  },
  {
   "cell_type": "code",
   "execution_count": 17,
   "metadata": {},
   "outputs": [],
   "source": [
    "load_dotenv()\n",
    "client_id = os.getenv(\"CLIENT_ID\")\n",
    "client_secret = os.getenv(\"CLIENT_SECRET\")"
   ]
  },
  {
   "cell_type": "code",
   "execution_count": 48,
   "metadata": {},
   "outputs": [],
   "source": [
    "def get_token():\n",
    "    auth_string = f\"{client_id}:{client_secret}\"\n",
    "    auth_bytes = auth_string.encode(\"utf-8\")\n",
    "    auth_base64 = str(base64.b64encode(auth_bytes), \"utf-8\")\n",
    "\n",
    "    url = \"https://accounts.spotify.com/api/token\"\n",
    "    headers = {\n",
    "        \"Authorization\": f\"Basic {auth_base64}\",\n",
    "        \"Content-Type\": \"application/x-www-form-urlencoded\"\n",
    "        }\n",
    "    data = {\n",
    "        \"grant_type\": \"client_credentials\"\n",
    "    }\n",
    "    result = requests.post(url, headers=headers, data=data)\n",
    "    print(result)\n",
    "    json_result = json.loads(result.content)\n",
    "    token = json_result[\"access_token\"]\n",
    "    return token\n",
    "\n",
    "def get_auth_header(token):\n",
    "    return {\"Authorization\": f\"Bearer {token}\"}\n",
    "\n",
    "def search_for_artist(token, artist):\n",
    "    url = \"https://api.spotify.com/v1/search\"\n",
    "    headers = get_auth_header(token)\n",
    "    query = f\"?q={artist}&type=artist\"\n",
    "\n",
    "    query_url = url + query\n",
    "    result = requests.get(query_url, headers=headers)\n",
    "    print(result)\n",
    "    return result.json()\n",
    "\n",
    "\n",
    "def get_albums_by_artist(token, artist_id):\n",
    "    url = f\"https://api.spotify.com/v1/artists/{artist_id}/albums\"\n",
    "    headers = get_auth_header(token)\n",
    "    query_url = url\n",
    "    result = requests.get(query_url, headers=headers)\n",
    "    print(result)\n",
    "    return result.json()\n",
    "\n",
    "\n",
    "def get_songs_by_artist(token, artist_id):\n",
    "    url = f\"https://api.spotify.com/v1/artists/{artist_id}/top-tracks\"\n",
    "    headers = get_auth_header(token)\n",
    "    query = \"?market=US\"\n",
    "    query_url = url + query\n",
    "    result = requests.get(query_url, headers=headers)\n",
    "    print(result)\n",
    "    return result.json()\n",
    "\n"
   ]
  },
  {
   "cell_type": "code",
   "execution_count": 49,
   "metadata": {},
   "outputs": [
    {
     "name": "stdout",
     "output_type": "stream",
     "text": [
      "<Response [200]>\n",
      "BQB80qugNt62CmBbCc6UfF4z5ff8CICOVXKLzTHD1M5eZVBbb4qqY12FDd3vzYU0zAcKeQQXDq_aInaFaOE4qa-QZkmf_XNQCF444DU13Z7IwL6HkQcp\n"
     ]
    }
   ],
   "source": [
    "token = get_token()\n",
    "print(token)"
   ]
  },
  {
   "cell_type": "code",
   "execution_count": 50,
   "metadata": {},
   "outputs": [
    {
     "name": "stdout",
     "output_type": "stream",
     "text": [
      "<Response [200]>\n"
     ]
    }
   ],
   "source": [
    "response = search_for_artist(token, \"The Weeknd\")\n",
    "id1 = response[\"artists\"][\"items\"][0][\"id\"]\n"
   ]
  },
  {
   "cell_type": "code",
   "execution_count": 51,
   "metadata": {},
   "outputs": [
    {
     "name": "stdout",
     "output_type": "stream",
     "text": [
      "<Response [200]>\n"
     ]
    }
   ],
   "source": [
    "response2 = get_songs_by_artist(token, id1)"
   ]
  },
  {
   "cell_type": "code",
   "execution_count": 52,
   "metadata": {},
   "outputs": [
    {
     "name": "stdout",
     "output_type": "stream",
     "text": [
      "Die For You (with Ariana Grande) - Remix\n",
      "Creepin' (with The Weeknd & 21 Savage)\n",
      "Die For You\n",
      "Starboy\n",
      "Blinding Lights\n",
      "I Was Never There\n",
      "Save Your Tears\n",
      "Reminder\n",
      "Call Out My Name\n",
      "Save Your Tears (Remix) (with Ariana Grande) - Bonus Track\n"
     ]
    }
   ],
   "source": [
    "for album in response2['tracks']: #[0]#['artists']\n",
    "    print(album['name'])"
   ]
  },
  {
   "cell_type": "code",
   "execution_count": 83,
   "metadata": {},
   "outputs": [
    {
     "name": "stdout",
     "output_type": "stream",
     "text": [
      "<Response [200]>\n",
      "<Response [200]>\n",
      "<Response [200]>\n",
      "<Response [200]>\n",
      "<Response [200]>\n",
      "<Response [200]>\n",
      "<Response [200]>\n",
      "<Response [200]>\n",
      "<Response [200]>\n",
      "<Response [200]>\n",
      "<Response [200]>\n",
      "<Response [200]>\n",
      "<Response [200]>\n",
      "<Response [200]>\n",
      "<Response [200]>\n",
      "<Response [200]>\n",
      "<Response [200]>\n",
      "<Response [200]>\n",
      "<Response [200]>\n",
      "<Response [200]>\n",
      "<Response [200]>\n"
     ]
    }
   ],
   "source": [
    "WeekndAlbums = [get_albums_by_artist(token, id1)['items'][i]['name'] for i in range(len(get_albums_by_artist(token, id1)['items']))]\n",
    "\n",
    "WeekndAlbumsset = set(WeekndAlbums)"
   ]
  },
  {
   "cell_type": "code",
   "execution_count": 84,
   "metadata": {},
   "outputs": [
    {
     "data": {
      "text/plain": [
       "{'After Hours',\n",
       " 'After Hours (Deluxe)',\n",
       " 'Avatar: The Way of Water (Original Motion Picture Soundtrack)',\n",
       " 'Dawn FM',\n",
       " 'Dawn FM (Alternate World)',\n",
       " 'Live At SoFi Stadium',\n",
       " 'My Dear Melancholy,',\n",
       " 'Starboy (Deluxe)'}"
      ]
     },
     "execution_count": 84,
     "metadata": {},
     "output_type": "execute_result"
    }
   ],
   "source": [
    "WeekndAlbumsset"
   ]
  },
  {
   "cell_type": "code",
   "execution_count": null,
   "metadata": {},
   "outputs": [],
   "source": []
  }
 ],
 "metadata": {
  "kernelspec": {
   "display_name": "base",
   "language": "python",
   "name": "python3"
  },
  "language_info": {
   "codemirror_mode": {
    "name": "ipython",
    "version": 3
   },
   "file_extension": ".py",
   "mimetype": "text/x-python",
   "name": "python",
   "nbconvert_exporter": "python",
   "pygments_lexer": "ipython3",
   "version": "3.9.7"
  },
  "orig_nbformat": 4,
  "vscode": {
   "interpreter": {
    "hash": "89bab272b3e4d95e256b09f63e3f21815ac092f96e344784d164586467b9af67"
   }
  }
 },
 "nbformat": 4,
 "nbformat_minor": 2
}
