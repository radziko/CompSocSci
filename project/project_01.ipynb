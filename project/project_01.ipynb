{
 "cells": [
  {
   "cell_type": "code",
   "execution_count": 20,
   "metadata": {},
   "outputs": [],
   "source": [
    "import math\n",
    "import json\n",
    "import requests\n",
    "import itertools\n",
    "import numpy as np\n",
    "import pandas as pd\n",
    "import time\n",
    "from datetime import datetime, timedelta\n",
    "from dotenv import load_dotenv\n",
    "import os\n",
    "import json\n",
    "import base64"
   ]
  },
  {
   "cell_type": "code",
   "execution_count": 21,
   "metadata": {},
   "outputs": [],
   "source": [
    "load_dotenv()\n",
    "client_id = os.getenv(\"CLIENT_ID\")\n",
    "client_secret = os.getenv(\"CLIENT_SECRET\")"
   ]
  },
  {
   "cell_type": "code",
   "execution_count": 33,
   "metadata": {},
   "outputs": [],
   "source": [
    "def get_token():\n",
    "    auth_string = f\"{client_id}:{client_secret}\"\n",
    "    auth_bytes = auth_string.encode(\"utf-8\")\n",
    "    auth_base64 = str(base64.b64encode(auth_bytes), \"utf-8\")\n",
    "\n",
    "    url = \"https://accounts.spotify.com/api/token\"\n",
    "    headers = {\n",
    "        \"Authorization\": f\"Basic {auth_base64}\",\n",
    "        \"Content-Type\": \"application/x-www-form-urlencoded\"\n",
    "        }\n",
    "    data = {\n",
    "        \"grant_type\": \"client_credentials\"\n",
    "    }\n",
    "    result = requests.post(url, headers=headers, data=data)\n",
    "    print(result)\n",
    "    json_result = json.loads(result.content)\n",
    "    token = json_result[\"access_token\"]\n",
    "    return token\n",
    "\n",
    "def get_auth_header(token):\n",
    "    return {\"Authorization\": f\"Bearer {token}\"}\n",
    "\n",
    "def search_for_artist(token, artist):\n",
    "    url = \"https://api.spotify.com/v1/search\"\n",
    "    headers = get_auth_header(token)\n",
    "    query = f\"?q={artist}&type=artist\"\n",
    "\n",
    "    query_url = url + query\n",
    "    result = requests.get(query_url, headers=headers)\n",
    "    print(result)\n",
    "    return result.json()\n",
    "\n",
    "def get_songs_by_artist(token, artist_id):\n",
    "    url = f\"https://api.spotify.com/v1/artists/{artist_id}/top-tracks\"\n",
    "    headers = get_auth_header(token)\n",
    "    query = \"?market=US\"\n",
    "    query_url = url + query\n",
    "    result = requests.get(query_url, headers=headers)\n",
    "    print(result)\n",
    "    return result.json()"
   ]
  },
  {
   "cell_type": "code",
   "execution_count": 29,
   "metadata": {},
   "outputs": [
    {
     "name": "stdout",
     "output_type": "stream",
     "text": [
      "<Response [200]>\n",
      "BQB48IQxdlpF7EKR6_9YS5FZfgBvltMTxPNZsnoM2r2cvSIbrvJY7oa7ban7Zcs0cEpLgz5eXJDyGulyDNQ0Vli2-KW7EluHoxzJL6VingbP1cb8M5CF\n"
     ]
    }
   ],
   "source": [
    "token = get_token()\n",
    "print(token)"
   ]
  },
  {
   "cell_type": "code",
   "execution_count": 39,
   "metadata": {},
   "outputs": [
    {
     "name": "stdout",
     "output_type": "stream",
     "text": [
      "<Response [200]>\n"
     ]
    }
   ],
   "source": [
    "response = search_for_artist(token, \"The Weeknd\")\n",
    "id1 = response[\"artists\"][\"items\"][0][\"id\"]"
   ]
  },
  {
   "cell_type": "code",
   "execution_count": 41,
   "metadata": {},
   "outputs": [
    {
     "name": "stdout",
     "output_type": "stream",
     "text": [
      "<Response [200]>\n"
     ]
    }
   ],
   "source": [
    "response2 = get_songs_by_artist(token, id1)"
   ]
  },
  {
   "cell_type": "code",
   "execution_count": 48,
   "metadata": {},
   "outputs": [
    {
     "data": {
      "text/plain": [
       "[{'external_urls': {'spotify': 'https://open.spotify.com/artist/1Xyo4u8uXC1ZmMpatF05PJ'},\n",
       "  'href': 'https://api.spotify.com/v1/artists/1Xyo4u8uXC1ZmMpatF05PJ',\n",
       "  'id': '1Xyo4u8uXC1ZmMpatF05PJ',\n",
       "  'name': 'The Weeknd',\n",
       "  'type': 'artist',\n",
       "  'uri': 'spotify:artist:1Xyo4u8uXC1ZmMpatF05PJ'},\n",
       " {'external_urls': {'spotify': 'https://open.spotify.com/artist/66CXWjxzNUsdJxJ2JdwvnR'},\n",
       "  'href': 'https://api.spotify.com/v1/artists/66CXWjxzNUsdJxJ2JdwvnR',\n",
       "  'id': '66CXWjxzNUsdJxJ2JdwvnR',\n",
       "  'name': 'Ariana Grande',\n",
       "  'type': 'artist',\n",
       "  'uri': 'spotify:artist:66CXWjxzNUsdJxJ2JdwvnR'}]"
      ]
     },
     "execution_count": 48,
     "metadata": {},
     "output_type": "execute_result"
    }
   ],
   "source": [
    "response2['tracks'][0]['artists']"
   ]
  }
 ],
 "metadata": {
  "kernelspec": {
   "display_name": "socsci",
   "language": "python",
   "name": "python3"
  },
  "language_info": {
   "codemirror_mode": {
    "name": "ipython",
    "version": 3
   },
   "file_extension": ".py",
   "mimetype": "text/x-python",
   "name": "python",
   "nbconvert_exporter": "python",
   "pygments_lexer": "ipython3",
   "version": "3.11.0"
  },
  "orig_nbformat": 4
 },
 "nbformat": 4,
 "nbformat_minor": 2
}
